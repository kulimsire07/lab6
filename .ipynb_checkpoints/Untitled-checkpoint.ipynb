{
 "cells": [
  {
   "cell_type": "code",
   "execution_count": null,
   "id": "f7aa6f13-d64d-48a9-9d95-ac7ecb06f77f",
   "metadata": {},
   "outputs": [],
   "source": []
  }
 ],
 "metadata": {
  "kernelspec": {
   "display_name": "",
   "name": ""
  },
  "language_info": {
   "name": ""
  }
 },
 "nbformat": 4,
 "nbformat_minor": 5
}
