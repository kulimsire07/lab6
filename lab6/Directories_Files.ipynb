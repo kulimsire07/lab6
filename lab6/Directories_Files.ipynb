{
 "cells": [
  {
   "cell_type": "code",
   "execution_count": 7,
   "id": "83099ae6-7038-4a87-add2-0d755baded43",
   "metadata": {},
   "outputs": [
    {
     "name": "stdin",
     "output_type": "stream",
     "text": [
      "Введите путь для списка объектов:  /Users/tursynk.e/Desktop/lab/lab6\n"
     ]
    },
    {
     "name": "stdout",
     "output_type": "stream",
     "text": [
      "Только директории: ['.ipynb_checkpoints']\n",
      "Только файлы: ['Untitled.ipynb', 'builtin_functions.ipynb']\n",
      "Все объекты: ['Untitled.ipynb', 'builtin_functions.ipynb', '.ipynb_checkpoints']\n"
     ]
    }
   ],
   "source": [
    "#Write a Python program to list only directories, files and all directories, files in a specified path.\n",
    "import os\n",
    "import shutil\n",
    "import string\n",
    "import math\n",
    "import time\n",
    "def list_directories(path):\n",
    "    \"\"\"Возвращает список только директорий в указанном пути.\"\"\"\n",
    "    return [entry for entry in os.listdir(path) if os.path.isdir(os.path.join(path, entry))]\n",
    "\n",
    "def list_files(path):\n",
    "    \"\"\"Возвращает список только файлов в указанном пути.\"\"\"\n",
    "    return [entry for entry in os.listdir(path) if os.path.isfile(os.path.join(path, entry))]\n",
    "\n",
    "def list_all(path):\n",
    "    \"\"\"Возвращает список всех объектов (файлов и директорий) в указанном пути.\"\"\"\n",
    "    return os.listdir(path)\n",
    "\n",
    "specified_path = input(\"Введите путь для списка объектов: \")\n",
    "print(\"Только директории:\", list_directories(specified_path))\n",
    "print(\"Только файлы:\", list_files(specified_path))\n",
    "print(\"Все объекты:\", list_all(specified_path))"
   ]
  },
  {
   "cell_type": "code",
   "execution_count": 8,
   "id": "00c07a16-f3f9-4c68-a758-8b0ac3b74db3",
   "metadata": {},
   "outputs": [
    {
     "name": "stdin",
     "output_type": "stream",
     "text": [
      "Введите путь для проверки доступа:  /Users/tursynk.e/Desktop/lab/lab6\n"
     ]
    },
    {
     "name": "stdout",
     "output_type": "stream",
     "text": [
      "Путь существует: True\n",
      "Доступен для чтения: True\n",
      "Доступен для записи: True\n",
      "Доступен для выполнения: True\n"
     ]
    }
   ],
   "source": [
    "#Write a Python program to check for access to a specified path. Test the existence, readability, writability and executability of the specified path\n",
    "import os\n",
    "import shutil\n",
    "import string\n",
    "import math\n",
    "import time\n",
    "def check_access(path):\n",
    "    print(\"Путь существует:\", os.access(path, os.F_OK))\n",
    "    print(\"Доступен для чтения:\", os.access(path, os.R_OK))\n",
    "    print(\"Доступен для записи:\", os.access(path, os.W_OK))\n",
    "    print(\"Доступен для выполнения:\", os.access(path, os.X_OK))\n",
    "\n",
    "path_to_check = input(\"Введите путь для проверки доступа: \")\n",
    "check_access(path_to_check)"
   ]
  },
  {
   "cell_type": "code",
   "execution_count": 9,
   "id": "e762dcee-ae85-4846-b83e-40ddef3193e3",
   "metadata": {},
   "outputs": [
    {
     "name": "stdin",
     "output_type": "stream",
     "text": [
      "Введите полный путь (с именем файла) для получения деталей:  /Users/tursynk.e/Desktop/lab/lab6\n"
     ]
    },
    {
     "name": "stdout",
     "output_type": "stream",
     "text": [
      "Путь существует.\n",
      "Директория: /Users/tursynk.e/Desktop/lab\n",
      "Имя файла: lab6\n"
     ]
    }
   ],
   "source": [
    "#Write a Python program to test whether a given path exists or not. If the path exist find the filename and directory portion of the given path.\n",
    "import os\n",
    "import shutil\n",
    "import string\n",
    "import math\n",
    "import time\n",
    "def path_details(path):\n",
    "    if os.path.exists(path):\n",
    "        print(\"Путь существует.\")\n",
    "        print(\"Директория:\", os.path.dirname(path))\n",
    "        print(\"Имя файла:\", os.path.basename(path))\n",
    "    else:\n",
    "        print(\"Путь не существует.\")\n",
    "\n",
    "path_for_details = input(\"Введите полный путь (с именем файла) для получения деталей: \")\n",
    "path_details(path_for_details)\n"
   ]
  },
  {
   "cell_type": "code",
   "execution_count": 12,
   "id": "a2432d0c-5ab9-466e-97d7-2832b0f38397",
   "metadata": {},
   "outputs": [
    {
     "name": "stdin",
     "output_type": "stream",
     "text": [
      "Введите путь к текстовому файлу для подсчета строк:  /Users/tursynk.e/Desktop/lab/lab6/myfile.txt\n"
     ]
    },
    {
     "name": "stdout",
     "output_type": "stream",
     "text": [
      "Количество строк в файле: 3\n"
     ]
    }
   ],
   "source": [
    "#Write a Python program to count the number of lines in a text file.\n",
    "import os\n",
    "import shutil\n",
    "import string\n",
    "import math\n",
    "import time\n",
    "def count_lines(filepath):\n",
    "    with open(filepath, 'r', encoding='utf-8') as f:\n",
    "        return sum(1 for line in f)\n",
    "\n",
    "file_to_count = input(\"Введите путь к текстовому файлу для подсчета строк: \")\n",
    "print(\"Количество строк в файле:\", count_lines(file_to_count))\n"
   ]
  },
  {
   "cell_type": "code",
   "execution_count": 13,
   "id": "a5006002-378d-40ca-ac27-9eb1f00c71f9",
   "metadata": {},
   "outputs": [
    {
     "name": "stdin",
     "output_type": "stream",
     "text": [
      "Введите путь к файлу для записи списка:  /Users/tursynk.e/Desktop/lab/lab6/list.txt\n"
     ]
    },
    {
     "name": "stdout",
     "output_type": "stream",
     "text": [
      "Список успешно записан.\n"
     ]
    }
   ],
   "source": [
    "#Write a Python program to write a list to a file.\n",
    "import os\n",
    "import shutil\n",
    "import string\n",
    "import math\n",
    "import time\n",
    "sample_list = [\"apple\", \"banana\", \"cherry\", \"date\"]\n",
    "def write_list_to_file(lst, filepath):\n",
    "    with open(filepath, 'w', encoding='utf-8') as f:\n",
    "        for item in lst:\n",
    "            f.write(str(item) + \"\\n\")\n",
    "\n",
    "file_to_write = input(\"Введите путь к файлу для записи списка: \")\n",
    "write_list_to_file(sample_list, file_to_write)\n",
    "print(\"Список успешно записан.\")\n"
   ]
  },
  {
   "cell_type": "code",
   "execution_count": 15,
   "id": "f768854d-3f04-4220-b20d-4315e646f51e",
   "metadata": {},
   "outputs": [
    {
     "name": "stdin",
     "output_type": "stream",
     "text": [
      "Введите путь к папке для создания 26 файлов (например, /Users/YourUsername/Desktop/lab/lab6/files):   /Users/tursynk.e/Desktop/lab/lab6/files\n"
     ]
    },
    {
     "name": "stdout",
     "output_type": "stream",
     "text": [
      "Файлы созданы.\n"
     ]
    }
   ],
   "source": [
    "#Write a Python program to generate 26 text files named A.txt, B.txt, and so on up to Z.txt\n",
    "import os\n",
    "import shutil\n",
    "import string\n",
    "import math\n",
    "import time\n",
    "def generate_text_files(directory):\n",
    "    if not os.path.exists(directory):\n",
    "        os.makedirs(directory)\n",
    "    for letter in string.ascii_uppercase:\n",
    "        filename = os.path.join(directory, f\"{letter}.txt\")\n",
    "        with open(filename, 'w', encoding='utf-8') as f:\n",
    "            f.write(f\"Это файл {letter}.txt\\n\")\n",
    "\n",
    "dir_for_files = input(\"Введите путь к папке для создания 26 файлов (например, /Users/YourUsername/Desktop/lab/lab6/files): \")\n",
    "generate_text_files(dir_for_files)\n",
    "print(\"Файлы созданы.\")"
   ]
  },
  {
   "cell_type": "code",
   "execution_count": 17,
   "id": "e04b733b-d504-4daf-8b80-23d1b0a63891",
   "metadata": {},
   "outputs": [
    {
     "name": "stdin",
     "output_type": "stream",
     "text": [
      "Введите путь к исходному файлу для копирования:  /Users/tursynk.e/Desktop/lab/lab6/source.txt\n",
      "Введите путь к целевому файлу:  /Users/tursynk.e/Desktop/lab/lab6/destination.txt\n"
     ]
    },
    {
     "name": "stdout",
     "output_type": "stream",
     "text": [
      "Файл успешно скопирован из /Users/tursynk.e/Desktop/lab/lab6/source.txt в /Users/tursynk.e/Desktop/lab/lab6/destination.txt\n"
     ]
    }
   ],
   "source": [
    "#Write a Python program to copy the contents of a file to another file\n",
    "import os\n",
    "import shutil\n",
    "import string\n",
    "import math\n",
    "import time\n",
    "def copy_file(source, destination):\n",
    "    try:\n",
    "        shutil.copyfile(source, destination)\n",
    "        print(f\"Файл успешно скопирован из {source} в {destination}\")\n",
    "    except Exception as e:\n",
    "        print(\"Ошибка при копировании файла:\", e)\n",
    "\n",
    "# Пример использования:\n",
    "src_file = input(\"Введите путь к исходному файлу для копирования: \")\n",
    "dest_file = input(\"Введите путь к целевому файлу: \")\n",
    "copy_file(src_file, dest_file)"
   ]
  },
  {
   "cell_type": "code",
   "execution_count": 19,
   "id": "dd6c4d68-8516-4dd7-ad55-b5ff8dbc2029",
   "metadata": {},
   "outputs": [
    {
     "name": "stdin",
     "output_type": "stream",
     "text": [
      "Введите путь к файлу для удаления:  /Users/tursynk.e/Desktop/lab/lab6/delete_me.txt\n"
     ]
    },
    {
     "name": "stdout",
     "output_type": "stream",
     "text": [
      "Файл /Users/tursynk.e/Desktop/lab/lab6/delete_me.txt удалён.\n"
     ]
    }
   ],
   "source": [
    "def delete_file(filepath):\n",
    "    if os.path.exists(filepath):\n",
    "        if os.access(filepath, os.W_OK):\n",
    "            try:\n",
    "                os.remove(filepath)\n",
    "                print(f\"Файл {filepath} удалён.\")\n",
    "            except Exception as e:\n",
    "                print(\"Ошибка при удалении файла:\", e)\n",
    "        else:\n",
    "            print(f\"Нет прав на удаление файла: {filepath}\")\n",
    "    else:\n",
    "        print(f\"Файл не существует: {filepath}\")\n",
    "\n",
    "file_to_delete = input(\"Введите путь к файлу для удаления: \")\n",
    "delete_file(file_to_delete)"
   ]
  },
  {
   "cell_type": "code",
   "execution_count": null,
   "id": "65af12ed-bae4-41ce-ba0f-8561bb8f6d59",
   "metadata": {},
   "outputs": [],
   "source": []
  }
 ],
 "metadata": {
  "kernelspec": {
   "display_name": "Python 3 (ipykernel)",
   "language": "python",
   "name": "python3"
  },
  "language_info": {
   "codemirror_mode": {
    "name": "ipython",
    "version": 3
   },
   "file_extension": ".py",
   "mimetype": "text/x-python",
   "name": "python",
   "nbconvert_exporter": "python",
   "pygments_lexer": "ipython3",
   "version": "3.13.1"
  }
 },
 "nbformat": 4,
 "nbformat_minor": 5
}
