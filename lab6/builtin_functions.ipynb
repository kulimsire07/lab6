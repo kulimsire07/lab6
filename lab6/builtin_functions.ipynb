{
 "cells": [
  {
   "cell_type": "code",
   "execution_count": 1,
   "id": "cec24b9a-5b35-4776-a9cc-458f9adf1cfa",
   "metadata": {},
   "outputs": [
    {
     "name": "stdout",
     "output_type": "stream",
     "text": [
      "Product of [1, 2, 3, 4, 5] is: 120\n"
     ]
    }
   ],
   "source": [
    "#Write a Python program with builtin function to multiply all the numbers in a list\n",
    "import math\n",
    "import time\n",
    "\n",
    "def multiply_list(lst):\n",
    "\n",
    "    return math.prod(lst)\n",
    "\n",
    "numbers = [1, 2, 3, 4, 5]\n",
    "print(\"Product of\", numbers, \"is:\", multiply_list(numbers))"
   ]
  },
  {
   "cell_type": "code",
   "execution_count": 2,
   "id": "caeb1387-af92-40e6-8f02-b6fb46281c62",
   "metadata": {},
   "outputs": [
    {
     "name": "stdin",
     "output_type": "stream",
     "text": [
      "Введите строку для подсчёта заглавных и строчных букв:  My name is Eleonora\n"
     ]
    },
    {
     "name": "stdout",
     "output_type": "stream",
     "text": [
      "Количество заглавных букв: 2\n",
      "Количество строчных букв: 14\n"
     ]
    }
   ],
   "source": [
    "#Write a Python program with builtin function that accepts a string and calculate the number of upper case letters and lower case letters\n",
    "def count_case(s):\n",
    "    upper_count = sum(1 for c in s if c.isupper())\n",
    "    lower_count = sum(1 for c in s if c.islower())\n",
    "    return upper_count, lower_count\n",
    "\n",
    "input_str = input(\"Введите строку для подсчёта заглавных и строчных букв: \")\n",
    "u, l = count_case(input_str)\n",
    "print(\"Количество заглавных букв:\", u)\n",
    "print(\"Количество строчных букв:\", l)"
   ]
  },
  {
   "cell_type": "code",
   "execution_count": 1,
   "id": "e17358a2-424b-4a7e-b9cd-f96c394ad1ae",
   "metadata": {},
   "outputs": [
    {
     "name": "stdin",
     "output_type": "stream",
     "text": [
      "Введите строку для проверки на палиндром:  abcdcba\n"
     ]
    },
    {
     "name": "stdout",
     "output_type": "stream",
     "text": [
      "Строка является палиндромом\n"
     ]
    }
   ],
   "source": [
    "import math\n",
    "import time\n",
    "\n",
    "def is_palindrome(s):\n",
    "    # s[::-1] возвращает перевёрнутую строку\n",
    "    return s == s[::-1]\n",
    "\n",
    "pal_str = input(\"Введите строку для проверки на палиндром: \")\n",
    "if is_palindrome(pal_str):\n",
    "    print(\"Строка является палиндромом\")\n",
    "else:\n",
    "    print(\"Строка не является палиндромом\")\n"
   ]
  },
  {
   "cell_type": "code",
   "execution_count": 3,
   "id": "1d3209ff-92ab-4d9d-885f-d0522cf3ae5f",
   "metadata": {},
   "outputs": [
    {
     "name": "stdin",
     "output_type": "stream",
     "text": [
      "Введите число для вычисления квадратного корня:  25100\n",
      "Введите задержку (в миллисекундах):  2123\n"
     ]
    },
    {
     "name": "stdout",
     "output_type": "stream",
     "text": [
      "Square root of 25100.0 after 2123.0 milliseconds is 158.42979517754858\n"
     ]
    }
   ],
   "source": [
    "#Write a Python program that invoke square root function after specific milliseconds.\n",
    "import math\n",
    "import time\n",
    "num = float(input(\"Введите число для вычисления квадратного корня: \"))\n",
    "ms = float(input(\"Введите задержку (в миллисекундах): \"))\n",
    "time.sleep(ms / 1000)  # Перевод миллисекунд в секунды для функции sleep\n",
    "sqrt_val = math.sqrt(num)\n",
    "print(f\"Square root of {num} after {ms} milliseconds is {sqrt_val}\")"
   ]
  },
  {
   "cell_type": "code",
   "execution_count": 4,
   "id": "f687b9e4-b1c0-419c-b880-be776a8187c3",
   "metadata": {},
   "outputs": [
    {
     "name": "stdout",
     "output_type": "stream",
     "text": [
      "Все элементы в tuple1 истинны? True\n",
      "Все элементы в tuple2 истинны? False\n"
     ]
    }
   ],
   "source": [
    "#Write a Python program with builtin function that returns True if all elements of the tuple are true.\n",
    "import math\n",
    "import time\n",
    "def all_true(t):\n",
    "    return all(t)\n",
    "tuple1 = (True, 1, \"non-empty\")\n",
    "tuple2 = (True, 0, \"non-empty\")  \n",
    "print(\"Все элементы в tuple1 истинны?\", all_true(tuple1)) \n",
    "print(\"Все элементы в tuple2 истинны?\", all_true(tuple2))  \n"
   ]
  },
  {
   "cell_type": "code",
   "execution_count": null,
   "id": "8b902587-a287-4ec0-ad2b-94ab9655e0d0",
   "metadata": {},
   "outputs": [],
   "source": []
  }
 ],
 "metadata": {
  "kernelspec": {
   "display_name": "Python 3 (ipykernel)",
   "language": "python",
   "name": "python3"
  },
  "language_info": {
   "codemirror_mode": {
    "name": "ipython",
    "version": 3
   },
   "file_extension": ".py",
   "mimetype": "text/x-python",
   "name": "python",
   "nbconvert_exporter": "python",
   "pygments_lexer": "ipython3",
   "version": "3.13.1"
  }
 },
 "nbformat": 4,
 "nbformat_minor": 5
}
